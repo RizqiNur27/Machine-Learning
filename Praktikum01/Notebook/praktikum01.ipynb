{
 "cells": [
  {
   "cell_type": "code",
   "execution_count": 9,
   "id": "caad8fec",
   "metadata": {},
   "outputs": [
    {
     "name": "stdout",
     "output_type": "stream",
     "text": [
      "Dataset Awal:\n",
      "   instant      dteday  season  yr  mnth  holiday  weekday  workingday  \\\n",
      "0        1  2011-01-01       1   0     1        0        6           0   \n",
      "1        2  2011-01-02       1   0     1        0        0           0   \n",
      "2        3  2011-01-03       1   0     1        0        1           1   \n",
      "3        4  2011-01-04       1   0     1        0        2           1   \n",
      "4        5  2011-01-05       1   0     1        0        3           1   \n",
      "\n",
      "   weathersit      temp     atemp       hum  windspeed  casual  registered  \\\n",
      "0           2  0.344167  0.363625  0.805833   0.160446     331         654   \n",
      "1           2  0.363478  0.353739  0.696087   0.248539     131         670   \n",
      "2           1  0.196364  0.189405  0.437273   0.248309     120        1229   \n",
      "3           1  0.200000  0.212122  0.590435   0.160296     108        1454   \n",
      "4           1  0.226957  0.229270  0.436957   0.186900      82        1518   \n",
      "\n",
      "    cnt  \n",
      "0   985  \n",
      "1   801  \n",
      "2  1349  \n",
      "3  1562  \n",
      "4  1600  \n",
      "\n",
      "Dataframe Baru (df1):\n",
      "   instant      dteday  season      temp       hum  windspeed\n",
      "0        1  2011-01-01       1  0.344167  0.805833   0.160446\n",
      "1        2  2011-01-02       1  0.363478  0.696087   0.248539\n",
      "2        3  2011-01-03       1  0.196364  0.437273   0.248309\n",
      "3        4  2011-01-04       1  0.200000  0.590435   0.160296\n",
      "4        5  2011-01-05       1  0.226957  0.436957   0.186900\n"
     ]
    }
   ],
   "source": [
    "# membaca file dataset\n",
    "import pandas as pd\n",
    "df = pd.read_csv('../Data/day.csv', sep=',')\n",
    "\n",
    "# mengambil 5 baris pertama\n",
    "print(\"Dataset Awal:\")\n",
    "print(df.head())\n",
    "\n",
    "# membuat dataframe baru dengan kolom tertentu (df1)\n",
    "df1 = df[['instant', 'dteday', 'season', 'temp', 'hum', 'windspeed']]\n",
    "\n",
    "# mencetak dataframe baru ke layar\n",
    "print(\"\\nDataframe Baru (df1):\")\n",
    "print(df1.head())\n",
    "\n",
    "# menyimpan dataframe ke layar\n",
    "df1.to_csv('../Data/latihan02.csv')\n"
   ]
  }
 ],
 "metadata": {
  "kernelspec": {
   "display_name": "Python 3",
   "language": "python",
   "name": "python3"
  },
  "language_info": {
   "codemirror_mode": {
    "name": "ipython",
    "version": 3
   },
   "file_extension": ".py",
   "mimetype": "text/x-python",
   "name": "python",
   "nbconvert_exporter": "python",
   "pygments_lexer": "ipython3",
   "version": "3.13.7"
  }
 },
 "nbformat": 4,
 "nbformat_minor": 5
}
