{
 "cells": [
  {
   "cell_type": "markdown",
   "id": "cccfe1c6",
   "metadata": {},
   "source": [
    "# 1. Import Library"
   ]
  },
  {
   "cell_type": "code",
   "execution_count": 3,
   "id": "a7211408",
   "metadata": {},
   "outputs": [],
   "source": [
    "import numpy as np\n",
    "import pandas as pd\n",
    "import matplotlib.pyplot as plt\n",
    "\n",
    "from sklearn.model_selection import train_test_split\n",
    "from sklearn.compose import ColumnTransformer\n",
    "from sklearn.preprocessing import OneHotEncoder, StandardScaler \n",
    "from sklearn.pipeline import Pipeline\n",
    "from sklearn.linear_model import LogisticRegression\n",
    "from sklearn.metrics import (\n",
    "    accuracy_score, precision_score, recall_score, f1_score, roc_auc_score,\n",
    "    confusion_matrix, classification_report, RocCurveDisplay, ConfusionMatrixDisplay\n",
    ")"
   ]
  },
  {
   "cell_type": "markdown",
   "id": "b9e1f30f",
   "metadata": {},
   "source": [
    "# 2. Membaca File CSV"
   ]
  },
  {
   "cell_type": "code",
   "execution_count": 2,
   "id": "6e1314b4",
   "metadata": {},
   "outputs": [
    {
     "data": {
      "text/html": [
       "<div>\n",
       "<style scoped>\n",
       "    .dataframe tbody tr th:only-of-type {\n",
       "        vertical-align: middle;\n",
       "    }\n",
       "\n",
       "    .dataframe tbody tr th {\n",
       "        vertical-align: top;\n",
       "    }\n",
       "\n",
       "    .dataframe thead th {\n",
       "        text-align: right;\n",
       "    }\n",
       "</style>\n",
       "<table border=\"1\" class=\"dataframe\">\n",
       "  <thead>\n",
       "    <tr style=\"text-align: right;\">\n",
       "      <th></th>\n",
       "      <th>Jenis Kelamin</th>\n",
       "      <th>Umur (bulan)</th>\n",
       "      <th>Tinggi Badan (cm)</th>\n",
       "      <th>Berat Badan (kg)</th>\n",
       "      <th>Stunting</th>\n",
       "      <th>Wasting</th>\n",
       "    </tr>\n",
       "  </thead>\n",
       "  <tbody>\n",
       "    <tr>\n",
       "      <th>0</th>\n",
       "      <td>Laki-laki</td>\n",
       "      <td>19</td>\n",
       "      <td>91.6</td>\n",
       "      <td>13.3</td>\n",
       "      <td>Tall</td>\n",
       "      <td>Risk of Overweight</td>\n",
       "    </tr>\n",
       "    <tr>\n",
       "      <th>1</th>\n",
       "      <td>Laki-laki</td>\n",
       "      <td>20</td>\n",
       "      <td>77.7</td>\n",
       "      <td>8.5</td>\n",
       "      <td>Stunted</td>\n",
       "      <td>Underweight</td>\n",
       "    </tr>\n",
       "    <tr>\n",
       "      <th>2</th>\n",
       "      <td>Laki-laki</td>\n",
       "      <td>10</td>\n",
       "      <td>79.0</td>\n",
       "      <td>10.3</td>\n",
       "      <td>Normal</td>\n",
       "      <td>Risk of Overweight</td>\n",
       "    </tr>\n",
       "    <tr>\n",
       "      <th>3</th>\n",
       "      <td>Perempuan</td>\n",
       "      <td>2</td>\n",
       "      <td>50.3</td>\n",
       "      <td>8.3</td>\n",
       "      <td>Severely Stunted</td>\n",
       "      <td>Risk of Overweight</td>\n",
       "    </tr>\n",
       "    <tr>\n",
       "      <th>4</th>\n",
       "      <td>Perempuan</td>\n",
       "      <td>5</td>\n",
       "      <td>56.4</td>\n",
       "      <td>10.9</td>\n",
       "      <td>Severely Stunted</td>\n",
       "      <td>Risk of Overweight</td>\n",
       "    </tr>\n",
       "  </tbody>\n",
       "</table>\n",
       "</div>"
      ],
      "text/plain": [
       "  Jenis Kelamin  Umur (bulan)  Tinggi Badan (cm)  Berat Badan (kg)  \\\n",
       "0     Laki-laki            19               91.6              13.3   \n",
       "1     Laki-laki            20               77.7               8.5   \n",
       "2     Laki-laki            10               79.0              10.3   \n",
       "3     Perempuan             2               50.3               8.3   \n",
       "4     Perempuan             5               56.4              10.9   \n",
       "\n",
       "           Stunting             Wasting  \n",
       "0              Tall  Risk of Overweight  \n",
       "1           Stunted         Underweight  \n",
       "2            Normal  Risk of Overweight  \n",
       "3  Severely Stunted  Risk of Overweight  \n",
       "4  Severely Stunted  Risk of Overweight  "
      ]
     },
     "execution_count": 2,
     "metadata": {},
     "output_type": "execute_result"
    }
   ],
   "source": [
    "import pandas as pd\n",
    "df = pd.read_csv(\"../data/stunting_wasting_dataset.csv\")\n",
    "df.head()"
   ]
  },
  {
   "cell_type": "markdown",
   "id": "c915715c",
   "metadata": {},
   "source": [
    "# 3. Melihat info umum dataset"
   ]
  },
  {
   "cell_type": "code",
   "execution_count": 3,
   "id": "f23caee9",
   "metadata": {},
   "outputs": [
    {
     "name": "stdout",
     "output_type": "stream",
     "text": [
      "<class 'pandas.core.frame.DataFrame'>\n",
      "RangeIndex: 100000 entries, 0 to 99999\n",
      "Data columns (total 6 columns):\n",
      " #   Column             Non-Null Count   Dtype  \n",
      "---  ------             --------------   -----  \n",
      " 0   Jenis Kelamin      100000 non-null  object \n",
      " 1   Umur (bulan)       100000 non-null  int64  \n",
      " 2   Tinggi Badan (cm)  100000 non-null  float64\n",
      " 3   Berat Badan (kg)   100000 non-null  float64\n",
      " 4   Stunting           100000 non-null  object \n",
      " 5   Wasting            100000 non-null  object \n",
      "dtypes: float64(2), int64(1), object(3)\n",
      "memory usage: 4.6+ MB\n"
     ]
    }
   ],
   "source": [
    "df.info()"
   ]
  },
  {
   "cell_type": "markdown",
   "id": "f04ef66f",
   "metadata": {},
   "source": [
    "# 4. Data Pre-processing"
   ]
  },
  {
   "cell_type": "markdown",
   "id": "494fc727",
   "metadata": {},
   "source": [
    "4.1 Cek Missing Value"
   ]
  },
  {
   "cell_type": "code",
   "execution_count": 4,
   "id": "f8240167",
   "metadata": {},
   "outputs": [
    {
     "data": {
      "text/plain": [
       "Jenis Kelamin        0\n",
       "Umur (bulan)         0\n",
       "Tinggi Badan (cm)    0\n",
       "Berat Badan (kg)     0\n",
       "Stunting             0\n",
       "Wasting              0\n",
       "dtype: int64"
      ]
     },
     "execution_count": 4,
     "metadata": {},
     "output_type": "execute_result"
    }
   ],
   "source": [
    "df.isnull().sum()"
   ]
  },
  {
   "cell_type": "markdown",
   "id": "6e1296ed",
   "metadata": {},
   "source": [
    "4.2 Cek Nilai Unik"
   ]
  },
  {
   "cell_type": "code",
   "execution_count": 6,
   "id": "ea8a1c72",
   "metadata": {},
   "outputs": [
    {
     "data": {
      "text/plain": [
       "array(['Tall', 'Stunted', 'Normal', 'Severely Stunted'], dtype=object)"
      ]
     },
     "execution_count": 6,
     "metadata": {},
     "output_type": "execute_result"
    }
   ],
   "source": [
    "df['Stunting'].unique()\n"
   ]
  },
  {
   "cell_type": "code",
   "execution_count": 7,
   "id": "801514ff",
   "metadata": {},
   "outputs": [
    {
     "data": {
      "text/plain": [
       "array(['Laki-laki', 'Perempuan'], dtype=object)"
      ]
     },
     "execution_count": 7,
     "metadata": {},
     "output_type": "execute_result"
    }
   ],
   "source": [
    "df['Jenis Kelamin'].unique()"
   ]
  },
  {
   "cell_type": "markdown",
   "id": "af6b2a32",
   "metadata": {},
   "source": [
    "4.3 Mapping Kolom Kategorik ke Bentuk Numerik"
   ]
  },
  {
   "cell_type": "code",
   "execution_count": 13,
   "id": "1a16b3f0",
   "metadata": {},
   "outputs": [
    {
     "name": "stdout",
     "output_type": "stream",
     "text": [
      "Distribusi Stunting_bin:\n",
      " Stunting_bin\n",
      "0    78021\n",
      "1    16160\n",
      "Name: count, dtype: Int64\n",
      "\n",
      "Distribusi JK_bin:\n",
      " JK_bin\n",
      "1    50179\n",
      "0    49821\n",
      "Name: count, dtype: int64\n"
     ]
    }
   ],
   "source": [
    "# 1. maping kolom Stunting menjadi biner\n",
    "map_stunt = {'Stunted' : 1, 'Severaly Stunted' : 1, 'Normal' : 0, 'Tall' : 0}\n",
    "df ['Stunting_bin'] = df['Stunting'].map(map_stunt).astype('Int64')\n",
    "\n",
    "# 2. maping kolom Jenis Kelamin menjadi biner\n",
    "# 'Laki-laki' : 1, 'Perempuan' : 0\n",
    "df ['JK_bin'] = (df['Jenis Kelamin'] == 'Laki-laki').astype(int)\n",
    "\n",
    "print(\"Distribusi Stunting_bin:\\n\", df['Stunting_bin'].value_counts())\n",
    "print(\"\\nDistribusi JK_bin:\\n\", df['JK_bin'].value_counts())"
   ]
  },
  {
   "cell_type": "markdown",
   "id": "23b84de8",
   "metadata": {},
   "source": [
    "4.4 Analisis Korelasi Antar Variabel Numerik \n"
   ]
  },
  {
   "cell_type": "code",
   "execution_count": 14,
   "id": "fc5ea196",
   "metadata": {},
   "outputs": [
    {
     "data": {
      "text/html": [
       "<div>\n",
       "<style scoped>\n",
       "    .dataframe tbody tr th:only-of-type {\n",
       "        vertical-align: middle;\n",
       "    }\n",
       "\n",
       "    .dataframe tbody tr th {\n",
       "        vertical-align: top;\n",
       "    }\n",
       "\n",
       "    .dataframe thead th {\n",
       "        text-align: right;\n",
       "    }\n",
       "</style>\n",
       "<table border=\"1\" class=\"dataframe\">\n",
       "  <thead>\n",
       "    <tr style=\"text-align: right;\">\n",
       "      <th></th>\n",
       "      <th>Umur (bulan)</th>\n",
       "      <th>Tinggi Badan (cm)</th>\n",
       "      <th>Berat Badan (kg)</th>\n",
       "      <th>Stunting_bin</th>\n",
       "      <th>JK_bin</th>\n",
       "    </tr>\n",
       "  </thead>\n",
       "  <tbody>\n",
       "    <tr>\n",
       "      <th>Umur (bulan)</th>\n",
       "      <td>1.000000</td>\n",
       "      <td>0.875869</td>\n",
       "      <td>0.665389</td>\n",
       "      <td>0.061955</td>\n",
       "      <td>0.004046</td>\n",
       "    </tr>\n",
       "    <tr>\n",
       "      <th>Tinggi Badan (cm)</th>\n",
       "      <td>0.875869</td>\n",
       "      <td>1.000000</td>\n",
       "      <td>0.626005</td>\n",
       "      <td>-0.224156</td>\n",
       "      <td>0.073505</td>\n",
       "    </tr>\n",
       "    <tr>\n",
       "      <th>Berat Badan (kg)</th>\n",
       "      <td>0.665389</td>\n",
       "      <td>0.626005</td>\n",
       "      <td>1.000000</td>\n",
       "      <td>0.037797</td>\n",
       "      <td>0.045797</td>\n",
       "    </tr>\n",
       "    <tr>\n",
       "      <th>Stunting_bin</th>\n",
       "      <td>0.061955</td>\n",
       "      <td>-0.224156</td>\n",
       "      <td>0.037797</td>\n",
       "      <td>1.000000</td>\n",
       "      <td>-0.009779</td>\n",
       "    </tr>\n",
       "    <tr>\n",
       "      <th>JK_bin</th>\n",
       "      <td>0.004046</td>\n",
       "      <td>0.073505</td>\n",
       "      <td>0.045797</td>\n",
       "      <td>-0.009779</td>\n",
       "      <td>1.000000</td>\n",
       "    </tr>\n",
       "  </tbody>\n",
       "</table>\n",
       "</div>"
      ],
      "text/plain": [
       "                   Umur (bulan)  Tinggi Badan (cm)  Berat Badan (kg)  \\\n",
       "Umur (bulan)           1.000000           0.875869          0.665389   \n",
       "Tinggi Badan (cm)      0.875869           1.000000          0.626005   \n",
       "Berat Badan (kg)       0.665389           0.626005          1.000000   \n",
       "Stunting_bin           0.061955          -0.224156          0.037797   \n",
       "JK_bin                 0.004046           0.073505          0.045797   \n",
       "\n",
       "                   Stunting_bin    JK_bin  \n",
       "Umur (bulan)           0.061955  0.004046  \n",
       "Tinggi Badan (cm)     -0.224156  0.073505  \n",
       "Berat Badan (kg)       0.037797  0.045797  \n",
       "Stunting_bin           1.000000 -0.009779  \n",
       "JK_bin                -0.009779  1.000000  "
      ]
     },
     "execution_count": 14,
     "metadata": {},
     "output_type": "execute_result"
    }
   ],
   "source": [
    "corr_matrix = df.corr(numeric_only=True)\n",
    "corr_matrix"
   ]
  },
  {
   "cell_type": "markdown",
   "id": "6ece5d39",
   "metadata": {},
   "source": [
    "4.5 Visualisasi Heatmap Korelasi"
   ]
  },
  {
   "cell_type": "code",
   "execution_count": 15,
   "id": "dd5c0a09",
   "metadata": {},
   "outputs": [
    {
     "data": {
      "image/png": "[encoded data removed]",
      "text/plain": [
       "<Figure size 800x600 with 2 Axes>"
      ]
     },
     "metadata": {},
     "output_type": "display_data"
    }
   ],
   "source": [
    "import seaborn as sns\n",
    "import matplotlib.pyplot as plt\n",
    "\n",
    "plt.figure(figsize=(8, 6))\n",
    "sns.heatmap(corr_matrix, annot=True, cmap='coolwarm', fmt=\".2f\" , linewidths=0.5) \n",
    "plt.title(\"Heatmap Korelasi antar variabel numerik terhadap Stunting\")\n",
    "plt.show()"
   ]
  },
  {
   "cell_type": "markdown",
   "id": "9e434aba",
   "metadata": {},
   "source": [
    "# 5. Pembagian Dataset (Training dan Testing)\n"
   ]
  },
  {
   "cell_type": "markdown",
   "id": "79825fb4",
   "metadata": {},
   "source": [
    "5.1 Menentukan Fitur dan Target\n"
   ]
  },
  {
   "cell_type": "code",
   "execution_count": 17,
   "id": "a89112f6",
   "metadata": {},
   "outputs": [
    {
     "name": "stdout",
     "output_type": "stream",
     "text": [
      "X shape: (94181, 4)\n",
      "y shape: (94181,)\n"
     ]
    }
   ],
   "source": [
    "# fitur numerik dan gender\n",
    "feature_num = ['Umur (bulan)', 'Tinggi Badan (cm)', 'Berat Badan (kg)']\n",
    "feature_bin = ['JK_bin']\n",
    "\n",
    "# gabungkan & drop missing\n",
    "use_cols = feature_num + feature_bin + ['Stunting_bin']\n",
    "df_model = df[use_cols].dropna().copy()\n",
    "\n",
    "X = df_model[feature_num + feature_bin]\n",
    "y = df_model['Stunting_bin']\n",
    "\n",
    "print(\"X shape:\", X.shape)\n",
    "print(\"y shape:\", y.shape)"
   ]
  },
  {
   "cell_type": "markdown",
   "id": "4a076fe3",
   "metadata": {},
   "source": [
    "5.2 Membagi Dataset menjadi Training dan Testing Set\n"
   ]
  },
  {
   "cell_type": "code",
   "execution_count": 41,
   "id": "645ce5e4",
   "metadata": {},
   "outputs": [
    {
     "name": "stdout",
     "output_type": "stream",
     "text": [
      "data latih: (75344, 4) (75344,)\n",
      "data uji: (18837, 4) (18837,)\n"
     ]
    }
   ],
   "source": [
    "from sklearn.model_selection import train_test_split\n",
    "\n",
    "X_train, X_test, y_train, y_test = train_test_split(X, y, test_size=0.2, random_state=42, stratify=y)\n",
    "\n",
    "print(\"data latih:\", X_train.shape, y_train.shape)\n",
    "print(\"data uji:\", X_test.shape, y_test.shape)"
   ]
  },
  {
   "cell_type": "markdown",
   "id": "28217b3a",
   "metadata": {},
   "source": [
    "# 6. Pembangunan Model Logistic Regression"
   ]
  },
  {
   "cell_type": "code",
   "execution_count": 24,
   "id": "61fc6d2a",
   "metadata": {},
   "outputs": [
    {
     "name": "stdout",
     "output_type": "stream",
     "text": [
      "Model berhasil dilatih.\n"
     ]
    }
   ],
   "source": [
    "from sklearn.compose import ColumnTransformer\n",
    "from sklearn.preprocessing import StandardScaler\n",
    "from sklearn.pipeline import Pipeline\n",
    "from sklearn.linear_model import LogisticRegression\n",
    "\n",
    "# scale hanya fitur numerik, gender langsung passthrough\n",
    "preprocessor = ColumnTransformer(\n",
    "    transformers=[\n",
    "        ('num', StandardScaler(), feature_num),\n",
    "        ('bin', 'passthrough', feature_bin)\n",
    "    ])\n",
    "\n",
    "model = LogisticRegression(\n",
    "    max_iter=1000,\n",
    "    solver='lbfgs',\n",
    "    class_weight='balanced',\n",
    "    random_state=42\n",
    ")\n",
    "\n",
    "clf = Pipeline([\n",
    "    ('preprocessor', preprocessor),\n",
    "    ('model', model)\n",
    "])\n",
    "\n",
    "# latih model\n",
    "clf.fit(X_train, y_train)\n",
    "print(\"Model berhasil dilatih.\")"
   ]
  },
  {
   "cell_type": "markdown",
   "id": "3327cb67",
   "metadata": {},
   "source": [
    "# 7. Prediksi Model dan Evaluasi Model\n"
   ]
  },
  {
   "cell_type": "code",
   "execution_count": 42,
   "id": "2efdc891",
   "metadata": {},
   "outputs": [
    {
     "name": "stdout",
     "output_type": "stream",
     "text": [
      "Akurasi: 0.8943\n",
      "Precision: 0.6252\n",
      "Recall: 0.9579\n",
      "F1-score: 0.7566\n",
      "ROC AUC: 0.9599\n"
     ]
    }
   ],
   "source": [
    "from sklearn.metrics import accuracy_score\n",
    "from sklearn.metrics import precision_score, recall_score, f1_score, roc_auc_score\n",
    "\n",
    "# prediksi & probabilitas\n",
    "y_pred = clf.predict(X_test)\n",
    "y_prob = clf.predict_proba(X_test)[:, 1]\n",
    "\n",
    "# hitung numerik\n",
    "print(f\"Akurasi: {accuracy_score(y_test, y_pred):.4f}\")\n",
    "print(f\"Precision: {precision_score(y_test, y_pred):.4f}\")\n",
    "print(f\"Recall: {recall_score(y_test, y_pred):.4f}\")\n",
    "print(f\"F1-score: {f1_score(y_test, y_pred):.4f}\")\n",
    "print(f\"ROC AUC: {roc_auc_score(y_test, y_prob):.4f}\")"
   ]
  },
  {
   "cell_type": "markdown",
   "id": "32ccd821",
   "metadata": {},
   "source": [
    "# 8. Visualisasi Hasil Evaluasi\n"
   ]
  },
  {
   "cell_type": "code",
   "execution_count": 32,
   "id": "42d87ae6",
   "metadata": {},
   "outputs": [
    {
     "data": {
      "image/png": "[encoded data removed]",
      "text/plain": [
       "<Figure size 640x480 with 2 Axes>"
      ]
     },
     "metadata": {},
     "output_type": "display_data"
    },
    {
     "data": {
      "image/png": "[encoded data removed]",
      "text/plain": [
       "<Figure size 640x480 with 1 Axes>"
      ]
     },
     "metadata": {},
     "output_type": "display_data"
    }
   ],
   "source": [
    "from sklearn.metrics import ConfusionMatrixDisplay\n",
    "\n",
    "# confusion matrix\n",
    "ConfusionMatrixDisplay(confusion_matrix(y_test, y_pred),\n",
    "                       display_labels=['Normal', 'Stunting']).plot(values_format='d')\n",
    "plt.title(\"Confusion Matrix\")\n",
    "plt.show()\n",
    "\n",
    "#ROC curve\n",
    "RocCurveDisplay.from_estimator(clf, X_test, y_test)\n",
    "plt.title(\"ROC Curve Logsitic Regression\")\n",
    "plt.show()\n",
    "                       "
   ]
  },
  {
   "cell_type": "markdown",
   "id": "5b61ccab",
   "metadata": {},
   "source": [
    "# 9. Classification Report\n"
   ]
  },
  {
   "cell_type": "code",
   "execution_count": 33,
   "id": "d2d9d8c7",
   "metadata": {},
   "outputs": [
    {
     "name": "stdout",
     "output_type": "stream",
     "text": [
      "                    precision    recall  f1-score   support\n",
      "\n",
      "Tidak Stunting (0)       0.99      0.88      0.93     15605\n",
      "      Stunting (1)       0.63      0.96      0.76      3232\n",
      "\n",
      "          accuracy                           0.89     18837\n",
      "         macro avg       0.81      0.92      0.84     18837\n",
      "      weighted avg       0.93      0.89      0.90     18837\n",
      "\n"
     ]
    }
   ],
   "source": [
    "from sklearn.metrics import classification_report\n",
    "print(classification_report(y_test, y_pred, target_names=['Tidak Stunting (0)', 'Stunting (1)']))"
   ]
  },
  {
   "cell_type": "markdown",
   "id": "639b7eaf",
   "metadata": {},
   "source": [
    "# 10. Classification Report\n"
   ]
  },
  {
   "cell_type": "code",
   "execution_count": 36,
   "id": "cb39ff9e",
   "metadata": {},
   "outputs": [
    {
     "name": "stdout",
     "output_type": "stream",
     "text": [
      "Skor tiap fold: [0.89531242 0.88978552 0.89360798 0.88718412 0.88898917]\n",
      "Rata-rata skor: 0.8909758408110315\n",
      "standar deviasi: 0.0030157913854655903\n"
     ]
    }
   ],
   "source": [
    "import numpy as np\n",
    "from sklearn.model_selection import cross_val_score\n",
    "\n",
    "#lakukan cross-validation (cv=5 berarti 5 fold)\n",
    "scores = cross_val_score(clf, X, y, cv=5)\n",
    "\n",
    "# Tampilkan hasil cross-validation\n",
    "print(\"Skor tiap fold:\", scores)\n",
    "print(\"Rata-rata skor:\", np.mean(scores))\n",
    "print(\"standar deviasi:\", np.std(scores))"
   ]
  },
  {
   "cell_type": "markdown",
   "id": "c9fc9e55",
   "metadata": {},
   "source": [
    "# 11. Interpretasi Model Logistic Regression\n"
   ]
  },
  {
   "cell_type": "code",
   "execution_count": 38,
   "id": "40380df6",
   "metadata": {},
   "outputs": [
    {
     "data": {
      "text/html": [
       "<div>\n",
       "<style scoped>\n",
       "    .dataframe tbody tr th:only-of-type {\n",
       "        vertical-align: middle;\n",
       "    }\n",
       "\n",
       "    .dataframe tbody tr th {\n",
       "        vertical-align: top;\n",
       "    }\n",
       "\n",
       "    .dataframe thead th {\n",
       "        text-align: right;\n",
       "    }\n",
       "</style>\n",
       "<table border=\"1\" class=\"dataframe\">\n",
       "  <thead>\n",
       "    <tr style=\"text-align: right;\">\n",
       "      <th></th>\n",
       "      <th>Fitur</th>\n",
       "      <th>Koefisien</th>\n",
       "      <th>Odds Ratio</th>\n",
       "    </tr>\n",
       "  </thead>\n",
       "  <tbody>\n",
       "    <tr>\n",
       "      <th>0</th>\n",
       "      <td>Umur (bulan)</td>\n",
       "      <td>8.310390</td>\n",
       "      <td>4065.897805</td>\n",
       "    </tr>\n",
       "    <tr>\n",
       "      <th>3</th>\n",
       "      <td>JK_bin</td>\n",
       "      <td>1.627485</td>\n",
       "      <td>5.091057</td>\n",
       "    </tr>\n",
       "    <tr>\n",
       "      <th>2</th>\n",
       "      <td>Berat Badan (kg)</td>\n",
       "      <td>0.629313</td>\n",
       "      <td>1.876321</td>\n",
       "    </tr>\n",
       "    <tr>\n",
       "      <th>1</th>\n",
       "      <td>Tinggi Badan (cm)</td>\n",
       "      <td>-10.161155</td>\n",
       "      <td>0.000039</td>\n",
       "    </tr>\n",
       "  </tbody>\n",
       "</table>\n",
       "</div>"
      ],
      "text/plain": [
       "               Fitur  Koefisien   Odds Ratio\n",
       "0       Umur (bulan)   8.310390  4065.897805\n",
       "3             JK_bin   1.627485     5.091057\n",
       "2   Berat Badan (kg)   0.629313     1.876321\n",
       "1  Tinggi Badan (cm) -10.161155     0.000039"
      ]
     },
     "metadata": {},
     "output_type": "display_data"
    }
   ],
   "source": [
    "# Ambil nama fitur dan koefisien\n",
    "feat_nama = feature_num + feature_bin\n",
    "coef = clf.named_steps['model'].coef_[0]\n",
    "odds  = np.exp(coef)\n",
    "\n",
    "coef_df = pd.DataFrame({\n",
    "    'Fitur': feat_nama,\n",
    "    'Koefisien': coef,\n",
    "    'Odds Ratio': odds\n",
    "}).sort_values('Odds Ratio', ascending=False)\n",
    "\n",
    "display(coef_df)"
   ]
  },
  {
   "cell_type": "markdown",
   "id": "2f29d711",
   "metadata": {},
   "source": [
    "# 12. Prediksi Data Baru (Contoh Kasus)\n"
   ]
  },
  {
   "cell_type": "code",
   "execution_count": 40,
   "id": "8b8f2a9b",
   "metadata": {},
   "outputs": [
    {
     "data": {
      "text/html": [
       "<div>\n",
       "<style scoped>\n",
       "    .dataframe tbody tr th:only-of-type {\n",
       "        vertical-align: middle;\n",
       "    }\n",
       "\n",
       "    .dataframe tbody tr th {\n",
       "        vertical-align: top;\n",
       "    }\n",
       "\n",
       "    .dataframe thead th {\n",
       "        text-align: right;\n",
       "    }\n",
       "</style>\n",
       "<table border=\"1\" class=\"dataframe\">\n",
       "  <thead>\n",
       "    <tr style=\"text-align: right;\">\n",
       "      <th></th>\n",
       "      <th>Umur (bulan)</th>\n",
       "      <th>Tinggi Badan (cm)</th>\n",
       "      <th>Berat Badan (kg)</th>\n",
       "      <th>JK_bin</th>\n",
       "      <th>Prob_stunting</th>\n",
       "      <th>Pred (0=tidak,1=ya)</th>\n",
       "    </tr>\n",
       "  </thead>\n",
       "  <tbody>\n",
       "    <tr>\n",
       "      <th>0</th>\n",
       "      <td>24</td>\n",
       "      <td>79.0</td>\n",
       "      <td>9.2</td>\n",
       "      <td>1</td>\n",
       "      <td>0.998298</td>\n",
       "      <td>1.0</td>\n",
       "    </tr>\n",
       "    <tr>\n",
       "      <th>1</th>\n",
       "      <td>10</td>\n",
       "      <td>72.5</td>\n",
       "      <td>7.8</td>\n",
       "      <td>0</td>\n",
       "      <td>0.003024</td>\n",
       "      <td>0.0</td>\n",
       "    </tr>\n",
       "  </tbody>\n",
       "</table>\n",
       "</div>"
      ],
      "text/plain": [
       "   Umur (bulan)  Tinggi Badan (cm)  Berat Badan (kg)  JK_bin  Prob_stunting  \\\n",
       "0            24               79.0               9.2       1       0.998298   \n",
       "1            10               72.5               7.8       0       0.003024   \n",
       "\n",
       "   Pred (0=tidak,1=ya)  \n",
       "0                  1.0  \n",
       "1                  0.0  "
      ]
     },
     "metadata": {},
     "output_type": "display_data"
    }
   ],
   "source": [
    "# contoh data 2 anak\n",
    "data_baru = pd.DataFrame({\n",
    "    'Umur (bulan)': [24, 10],\n",
    "    'Tinggi Badan (cm)': [79.0, 72.5],\n",
    "    'Berat Badan (kg)': [9.2, 7.8],\n",
    "    'JK_bin': [1, 0]  # 1: Laki-laki, 0: Perempuan\n",
    "})\n",
    "\n",
    "pred = clf.predict(data_baru)\n",
    "prob = clf.predict_proba(data_baru)[:, 1]\n",
    "\n",
    "hasil = data_baru.copy()\n",
    "hasil['Prob_stunting'] = prob\n",
    "hasil['Pred (0=tidak,1=ya)'] = pred\n",
    "display(hasil)"
   ]
  }
 ],
 "metadata": {
  "kernelspec": {
   "display_name": "Python 3",
   "language": "python",
   "name": "python3"
  },
  "language_info": {
   "codemirror_mode": {
    "name": "ipython",
    "version": 3
   },
   "file_extension": ".py",
   "mimetype": "text/x-python",
   "name": "python",
   "nbconvert_exporter": "python",
   "pygments_lexer": "ipython3",
   "version": "3.13.7"
  }
 },
 "nbformat": 4,
 "nbformat_minor": 5
}
