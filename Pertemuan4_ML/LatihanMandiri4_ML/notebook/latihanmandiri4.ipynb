{
 "cells": [
  {
   "cell_type": "markdown",
   "id": "c3778343",
   "metadata": {},
   "source": [
    "# 1. Import Library "
   ]
  },
  {
   "cell_type": "code",
   "execution_count": 2,
   "id": "601eba86",
   "metadata": {},
   "outputs": [],
   "source": [
    "import pandas as pd\n",
    "import numpy as np\n",
    "import matplotlib.pyplot as plt\n",
    "from sklearn.model_selection import train_test_split\n",
    "from sklearn.preprocessing import StandardScaler\n",
    "from sklearn.linear_model import LogisticRegression\n",
    "from sklearn.metrics import (\n",
    "    confusion_matrix,\n",
    "    ConfusionMatrixDisplay,\n",
    "    RocCurveDisplay,\n",
    "    accuracy_score,\n",
    "    classification_report\n",
    ")"
   ]
  },
  {
   "cell_type": "markdown",
   "id": "737c85be",
   "metadata": {},
   "source": [
    "# 2. Membaca Dataset"
   ]
  },
  {
   "cell_type": "code",
   "execution_count": 3,
   "id": "73906d04",
   "metadata": {},
   "outputs": [
    {
     "data": {
      "text/html": [
       "<div>\n",
       "<style scoped>\n",
       "    .dataframe tbody tr th:only-of-type {\n",
       "        vertical-align: middle;\n",
       "    }\n",
       "\n",
       "    .dataframe tbody tr th {\n",
       "        vertical-align: top;\n",
       "    }\n",
       "\n",
       "    .dataframe thead th {\n",
       "        text-align: right;\n",
       "    }\n",
       "</style>\n",
       "<table border=\"1\" class=\"dataframe\">\n",
       "  <thead>\n",
       "    <tr style=\"text-align: right;\">\n",
       "      <th></th>\n",
       "      <th>ID</th>\n",
       "      <th>Usia</th>\n",
       "      <th>Status</th>\n",
       "      <th>Kelamin</th>\n",
       "      <th>Memiliki_Mobil</th>\n",
       "      <th>Penghasilan</th>\n",
       "      <th>Beli_Mobil</th>\n",
       "    </tr>\n",
       "  </thead>\n",
       "  <tbody>\n",
       "    <tr>\n",
       "      <th>0</th>\n",
       "      <td>1</td>\n",
       "      <td>32</td>\n",
       "      <td>1</td>\n",
       "      <td>0</td>\n",
       "      <td>0</td>\n",
       "      <td>240</td>\n",
       "      <td>1</td>\n",
       "    </tr>\n",
       "    <tr>\n",
       "      <th>1</th>\n",
       "      <td>2</td>\n",
       "      <td>49</td>\n",
       "      <td>2</td>\n",
       "      <td>1</td>\n",
       "      <td>1</td>\n",
       "      <td>100</td>\n",
       "      <td>0</td>\n",
       "    </tr>\n",
       "    <tr>\n",
       "      <th>2</th>\n",
       "      <td>3</td>\n",
       "      <td>52</td>\n",
       "      <td>1</td>\n",
       "      <td>0</td>\n",
       "      <td>2</td>\n",
       "      <td>250</td>\n",
       "      <td>1</td>\n",
       "    </tr>\n",
       "    <tr>\n",
       "      <th>3</th>\n",
       "      <td>4</td>\n",
       "      <td>26</td>\n",
       "      <td>2</td>\n",
       "      <td>1</td>\n",
       "      <td>1</td>\n",
       "      <td>130</td>\n",
       "      <td>0</td>\n",
       "    </tr>\n",
       "    <tr>\n",
       "      <th>4</th>\n",
       "      <td>5</td>\n",
       "      <td>45</td>\n",
       "      <td>3</td>\n",
       "      <td>0</td>\n",
       "      <td>2</td>\n",
       "      <td>237</td>\n",
       "      <td>1</td>\n",
       "    </tr>\n",
       "  </tbody>\n",
       "</table>\n",
       "</div>"
      ],
      "text/plain": [
       "   ID  Usia  Status  Kelamin  Memiliki_Mobil  Penghasilan  Beli_Mobil\n",
       "0   1    32       1        0               0          240           1\n",
       "1   2    49       2        1               1          100           0\n",
       "2   3    52       1        0               2          250           1\n",
       "3   4    26       2        1               1          130           0\n",
       "4   5    45       3        0               2          237           1"
      ]
     },
     "execution_count": 3,
     "metadata": {},
     "output_type": "execute_result"
    }
   ],
   "source": [
    "df = pd.read_csv(\"../data/calonpembelimobil.csv\")\n",
    "df.head()\n",
    "\n"
   ]
  },
  {
   "cell_type": "markdown",
   "id": "ef14d17a",
   "metadata": {},
   "source": [
    "# 3. Eksplorasi Data"
   ]
  },
  {
   "cell_type": "code",
   "execution_count": 4,
   "id": "b47fc1fd",
   "metadata": {},
   "outputs": [
    {
     "name": "stdout",
     "output_type": "stream",
     "text": [
      "<class 'pandas.core.frame.DataFrame'>\n",
      "RangeIndex: 1000 entries, 0 to 999\n",
      "Data columns (total 7 columns):\n",
      " #   Column          Non-Null Count  Dtype\n",
      "---  ------          --------------  -----\n",
      " 0   ID              1000 non-null   int64\n",
      " 1   Usia            1000 non-null   int64\n",
      " 2   Status          1000 non-null   int64\n",
      " 3   Kelamin         1000 non-null   int64\n",
      " 4   Memiliki_Mobil  1000 non-null   int64\n",
      " 5   Penghasilan     1000 non-null   int64\n",
      " 6   Beli_Mobil      1000 non-null   int64\n",
      "dtypes: int64(7)\n",
      "memory usage: 54.8 KB\n"
     ]
    }
   ],
   "source": [
    "df.info()"
   ]
  },
  {
   "cell_type": "markdown",
   "id": "5a0446fb",
   "metadata": {},
   "source": [
    "# 4. Data pre-processing"
   ]
  },
  {
   "cell_type": "markdown",
   "id": "87bc71c4",
   "metadata": {},
   "source": [
    "4.1 cek missing value"
   ]
  },
  {
   "cell_type": "code",
   "execution_count": 5,
   "id": "f5123b33",
   "metadata": {},
   "outputs": [
    {
     "data": {
      "text/plain": [
       "ID                0\n",
       "Usia              0\n",
       "Status            0\n",
       "Kelamin           0\n",
       "Memiliki_Mobil    0\n",
       "Penghasilan       0\n",
       "Beli_Mobil        0\n",
       "dtype: int64"
      ]
     },
     "execution_count": 5,
     "metadata": {},
     "output_type": "execute_result"
    }
   ],
   "source": [
    "df.isnull().sum()"
   ]
  },
  {
   "cell_type": "markdown",
   "id": "939e22c9",
   "metadata": {},
   "source": [
    "4.2 memeriksa nilai unik tiap kolom"
   ]
  },
  {
   "cell_type": "code",
   "execution_count": 6,
   "id": "517fb315",
   "metadata": {},
   "outputs": [
    {
     "name": "stdout",
     "output_type": "stream",
     "text": [
      "Nilai unik kolom 'Status': [1 2 3 0]\n",
      "Nilai unik kolom 'Kelamin': [0 1]\n",
      "Nilai unik kolom 'Memiliki_Mobil': [0 1 2 4 3]\n",
      "Nilai unik kolom 'Beli_Mobil': [1 0]\n"
     ]
    }
   ],
   "source": [
    "print(\"Nilai unik kolom 'Status':\", df['Status'].unique())\n",
    "print(\"Nilai unik kolom 'Kelamin':\", df['Kelamin'].unique())\n",
    "print(\"Nilai unik kolom 'Memiliki_Mobil':\", df['Memiliki_Mobil'].unique())\n",
    "print(\"Nilai unik kolom 'Beli_Mobil':\", df['Beli_Mobil'].unique())"
   ]
  },
  {
   "cell_type": "markdown",
   "id": "8eddfae1",
   "metadata": {},
   "source": [
    "4.3 Mapping Kolom Kategori ke Bentuk numerik"
   ]
  },
  {
   "cell_type": "code",
   "execution_count": 7,
   "id": "a7ea10ec",
   "metadata": {},
   "outputs": [
    {
     "name": "stdout",
     "output_type": "stream",
     "text": [
      "Distribusi Beli_Mobil_bin:\n",
      " Series([], Name: count, dtype: Int64)\n",
      "\n",
      "Distribusi Kelamin_bin:\n",
      " Kelamin_bin\n",
      "0    1000\n",
      "Name: count, dtype: int64\n"
     ]
    }
   ],
   "source": [
    "# 1. maping kolom Beli_Mobil menjadi biner\n",
    "map_beli = {'Beli': 1, 'Ya': 1, 'Tidak': 0, 'Tidak Beli': 0}\n",
    "df['Beli_Mobil_bin'] = df['Beli_Mobil'].map(map_beli).astype('Int64')\n",
    "\n",
    "# 2. maping kolom Kelamin menjadi biner\n",
    "# 'Laki-laki' : 1, 'Perempuan' : 0\n",
    "df['Kelamin_bin'] = (df['Kelamin'] == 'Laki-laki').astype(int)\n",
    "\n",
    "print(\"Distribusi Beli_Mobil_bin:\\n\", df['Beli_Mobil_bin'].value_counts())\n",
    "print(\"\\nDistribusi Kelamin_bin:\\n\", df['Kelamin_bin'].value_counts())\n"
   ]
  },
  {
   "cell_type": "markdown",
   "id": "f722c04a",
   "metadata": {},
   "source": [
    "4.4 Analisis Korelasi antar variabel"
   ]
  },
  {
   "cell_type": "code",
   "execution_count": 8,
   "id": "b42e2713",
   "metadata": {},
   "outputs": [
    {
     "data": {
      "text/html": [
       "<div>\n",
       "<style scoped>\n",
       "    .dataframe tbody tr th:only-of-type {\n",
       "        vertical-align: middle;\n",
       "    }\n",
       "\n",
       "    .dataframe tbody tr th {\n",
       "        vertical-align: top;\n",
       "    }\n",
       "\n",
       "    .dataframe thead th {\n",
       "        text-align: right;\n",
       "    }\n",
       "</style>\n",
       "<table border=\"1\" class=\"dataframe\">\n",
       "  <thead>\n",
       "    <tr style=\"text-align: right;\">\n",
       "      <th></th>\n",
       "      <th>ID</th>\n",
       "      <th>Usia</th>\n",
       "      <th>Status</th>\n",
       "      <th>Kelamin</th>\n",
       "      <th>Memiliki_Mobil</th>\n",
       "      <th>Penghasilan</th>\n",
       "      <th>Beli_Mobil</th>\n",
       "      <th>Beli_Mobil_bin</th>\n",
       "      <th>Kelamin_bin</th>\n",
       "    </tr>\n",
       "  </thead>\n",
       "  <tbody>\n",
       "    <tr>\n",
       "      <th>ID</th>\n",
       "      <td>1.000000</td>\n",
       "      <td>0.149779</td>\n",
       "      <td>-0.006634</td>\n",
       "      <td>0.014646</td>\n",
       "      <td>0.068555</td>\n",
       "      <td>0.254177</td>\n",
       "      <td>0.168614</td>\n",
       "      <td>NaN</td>\n",
       "      <td>NaN</td>\n",
       "    </tr>\n",
       "    <tr>\n",
       "      <th>Usia</th>\n",
       "      <td>0.149779</td>\n",
       "      <td>1.000000</td>\n",
       "      <td>0.051476</td>\n",
       "      <td>0.019454</td>\n",
       "      <td>0.090926</td>\n",
       "      <td>0.125859</td>\n",
       "      <td>0.100127</td>\n",
       "      <td>NaN</td>\n",
       "      <td>NaN</td>\n",
       "    </tr>\n",
       "    <tr>\n",
       "      <th>Status</th>\n",
       "      <td>-0.006634</td>\n",
       "      <td>0.051476</td>\n",
       "      <td>1.000000</td>\n",
       "      <td>-0.008561</td>\n",
       "      <td>0.048302</td>\n",
       "      <td>0.071714</td>\n",
       "      <td>0.048584</td>\n",
       "      <td>NaN</td>\n",
       "      <td>NaN</td>\n",
       "    </tr>\n",
       "    <tr>\n",
       "      <th>Kelamin</th>\n",
       "      <td>0.014646</td>\n",
       "      <td>0.019454</td>\n",
       "      <td>-0.008561</td>\n",
       "      <td>1.000000</td>\n",
       "      <td>0.035199</td>\n",
       "      <td>-0.054211</td>\n",
       "      <td>-0.147301</td>\n",
       "      <td>NaN</td>\n",
       "      <td>NaN</td>\n",
       "    </tr>\n",
       "    <tr>\n",
       "      <th>Memiliki_Mobil</th>\n",
       "      <td>0.068555</td>\n",
       "      <td>0.090926</td>\n",
       "      <td>0.048302</td>\n",
       "      <td>0.035199</td>\n",
       "      <td>1.000000</td>\n",
       "      <td>0.137823</td>\n",
       "      <td>0.102005</td>\n",
       "      <td>NaN</td>\n",
       "      <td>NaN</td>\n",
       "    </tr>\n",
       "    <tr>\n",
       "      <th>Penghasilan</th>\n",
       "      <td>0.254177</td>\n",
       "      <td>0.125859</td>\n",
       "      <td>0.071714</td>\n",
       "      <td>-0.054211</td>\n",
       "      <td>0.137823</td>\n",
       "      <td>1.000000</td>\n",
       "      <td>0.763930</td>\n",
       "      <td>NaN</td>\n",
       "      <td>NaN</td>\n",
       "    </tr>\n",
       "    <tr>\n",
       "      <th>Beli_Mobil</th>\n",
       "      <td>0.168614</td>\n",
       "      <td>0.100127</td>\n",
       "      <td>0.048584</td>\n",
       "      <td>-0.147301</td>\n",
       "      <td>0.102005</td>\n",
       "      <td>0.763930</td>\n",
       "      <td>1.000000</td>\n",
       "      <td>NaN</td>\n",
       "      <td>NaN</td>\n",
       "    </tr>\n",
       "    <tr>\n",
       "      <th>Beli_Mobil_bin</th>\n",
       "      <td>NaN</td>\n",
       "      <td>NaN</td>\n",
       "      <td>NaN</td>\n",
       "      <td>NaN</td>\n",
       "      <td>NaN</td>\n",
       "      <td>NaN</td>\n",
       "      <td>NaN</td>\n",
       "      <td>NaN</td>\n",
       "      <td>NaN</td>\n",
       "    </tr>\n",
       "    <tr>\n",
       "      <th>Kelamin_bin</th>\n",
       "      <td>NaN</td>\n",
       "      <td>NaN</td>\n",
       "      <td>NaN</td>\n",
       "      <td>NaN</td>\n",
       "      <td>NaN</td>\n",
       "      <td>NaN</td>\n",
       "      <td>NaN</td>\n",
       "      <td>NaN</td>\n",
       "      <td>NaN</td>\n",
       "    </tr>\n",
       "  </tbody>\n",
       "</table>\n",
       "</div>"
      ],
      "text/plain": [
       "                      ID      Usia    Status   Kelamin  Memiliki_Mobil  \\\n",
       "ID              1.000000  0.149779 -0.006634  0.014646        0.068555   \n",
       "Usia            0.149779  1.000000  0.051476  0.019454        0.090926   \n",
       "Status         -0.006634  0.051476  1.000000 -0.008561        0.048302   \n",
       "Kelamin         0.014646  0.019454 -0.008561  1.000000        0.035199   \n",
       "Memiliki_Mobil  0.068555  0.090926  0.048302  0.035199        1.000000   \n",
       "Penghasilan     0.254177  0.125859  0.071714 -0.054211        0.137823   \n",
       "Beli_Mobil      0.168614  0.100127  0.048584 -0.147301        0.102005   \n",
       "Beli_Mobil_bin       NaN       NaN       NaN       NaN             NaN   \n",
       "Kelamin_bin          NaN       NaN       NaN       NaN             NaN   \n",
       "\n",
       "                Penghasilan  Beli_Mobil  Beli_Mobil_bin  Kelamin_bin  \n",
       "ID                 0.254177    0.168614             NaN          NaN  \n",
       "Usia               0.125859    0.100127             NaN          NaN  \n",
       "Status             0.071714    0.048584             NaN          NaN  \n",
       "Kelamin           -0.054211   -0.147301             NaN          NaN  \n",
       "Memiliki_Mobil     0.137823    0.102005             NaN          NaN  \n",
       "Penghasilan        1.000000    0.763930             NaN          NaN  \n",
       "Beli_Mobil         0.763930    1.000000             NaN          NaN  \n",
       "Beli_Mobil_bin          NaN         NaN             NaN          NaN  \n",
       "Kelamin_bin             NaN         NaN             NaN          NaN  "
      ]
     },
     "execution_count": 8,
     "metadata": {},
     "output_type": "execute_result"
    }
   ],
   "source": [
    "corr_matrix = df.corr(numeric_only=True)\n",
    "corr_matrix\n"
   ]
  },
  {
   "cell_type": "code",
   "execution_count": 9,
   "id": "04eb8c0c",
   "metadata": {},
   "outputs": [
    {
     "data": {
      "image/png": "[encoded data removed]",
      "text/plain": [
       "<Figure size 800x600 with 2 Axes>"
      ]
     },
     "metadata": {},
     "output_type": "display_data"
    }
   ],
   "source": [
    "import seaborn as sns\n",
    "import matplotlib.pyplot as plt\n",
    "\n",
    "plt.figure(figsize=(8, 6))\n",
    "sns.heatmap(corr_matrix, annot=True, cmap='coolwarm', fmt=\".2f\" , linewidths=0.5) \n",
    "plt.title(\"Heatmap Korelasi antar variabel numerik terhadap Beli Mobil\")\n",
    "plt.show()"
   ]
  },
  {
   "cell_type": "markdown",
   "id": "189c504f",
   "metadata": {},
   "source": [
    "# 5. Pembagian Dataset (Training dan Testing)"
   ]
  },
  {
   "cell_type": "markdown",
   "id": "b019ab88",
   "metadata": {},
   "source": [
    "5.1 Menentukan Fitur target"
   ]
  },
  {
   "cell_type": "code",
   "execution_count": 10,
   "id": "66620435",
   "metadata": {},
   "outputs": [
    {
     "name": "stdout",
     "output_type": "stream",
     "text": [
      "X shape: (1000, 3)\n",
      "y shape: (1000,)\n"
     ]
    }
   ],
   "source": [
    "df['Beli_Mobil_bin'] = df['Beli_Mobil']\n",
    "\n",
    "# fitur numerik dan biner\n",
    "feature_num = ['Status', 'Penghasilan']\n",
    "feature_bin = ['Memiliki_Mobil']\n",
    "\n",
    "df_model = df[feature_num + feature_bin + ['Beli_Mobil_bin']].dropna()\n",
    "\n",
    "X = df_model[feature_num + feature_bin]\n",
    "y = df_model['Beli_Mobil_bin']\n",
    "\n",
    "print(\"X shape:\", X.shape)\n",
    "print(\"y shape:\", y.shape)\n"
   ]
  },
  {
   "cell_type": "markdown",
   "id": "1fba82ff",
   "metadata": {},
   "source": [
    "5.2 Membagi Dataset menjadi training dan testing "
   ]
  },
  {
   "cell_type": "code",
   "execution_count": 11,
   "id": "3cb4a866",
   "metadata": {},
   "outputs": [
    {
     "name": "stdout",
     "output_type": "stream",
     "text": [
      "data latih: (800, 3) (800,)\n",
      "data uji: (200, 3) (200,)\n"
     ]
    }
   ],
   "source": [
    "from sklearn.model_selection import train_test_split\n",
    "\n",
    "X_train, X_test, y_train, y_test = train_test_split(X, y, test_size=0.2, random_state=42, stratify=y)\n",
    "\n",
    "print(\"data latih:\", X_train.shape, y_train.shape)\n",
    "print(\"data uji:\", X_test.shape, y_test.shape)"
   ]
  },
  {
   "cell_type": "markdown",
   "id": "b730afee",
   "metadata": {},
   "source": [
    "# 6. Pembuatan Model Logistic Regression"
   ]
  },
  {
   "cell_type": "code",
   "execution_count": 33,
   "id": "aa2d685b",
   "metadata": {},
   "outputs": [
    {
     "name": "stdout",
     "output_type": "stream",
     "text": [
      "Model Logistic Regression berhasil dilatih.\n"
     ]
    }
   ],
   "source": [
    "model = LogisticRegression(max_iter=1000, solver='lbfgs', random_state=42)\n",
    "model.fit(X_train, y_train)\n",
    "print(\"Model Logistic Regression berhasil dilatih.\")"
   ]
  },
  {
   "cell_type": "markdown",
   "id": "7855c12f",
   "metadata": {},
   "source": [
    "# 7. Prediksi dan Evaluasi Model"
   ]
  },
  {
   "cell_type": "code",
   "execution_count": 13,
   "id": "cce83002",
   "metadata": {},
   "outputs": [
    {
     "name": "stdout",
     "output_type": "stream",
     "text": [
      "Akurasi: 0.9450\n",
      "Precision: 0.9754\n",
      "Recall: 0.9370\n",
      "F1-score: 0.9558\n",
      "ROC AUC: 0.9781\n"
     ]
    }
   ],
   "source": [
    "from sklearn.metrics import precision_score\n",
    "from sklearn.metrics import recall_score\n",
    "from sklearn.metrics import f1_score\n",
    "from sklearn.metrics import roc_auc_score\n",
    "from sklearn.linear_model import LogisticRegression\n",
    "\n",
    "model = LogisticRegression()\n",
    "model.fit(X_train, y_train)\n",
    "\n",
    "y_pred = model.predict(X_test)\n",
    "y_prob = model.predict_proba(X_test)[:, 1]\n",
    "\n",
    "print(f\"Akurasi: {accuracy_score(y_test, y_pred):.4f}\")\n",
    "print(f\"Precision: {precision_score(y_test, y_pred):.4f}\")\n",
    "print(f\"Recall: {recall_score(y_test, y_pred):.4f}\")\n",
    "print(f\"F1-score: {f1_score(y_test, y_pred):.4f}\")\n",
    "print(f\"ROC AUC: {roc_auc_score(y_test, y_prob):.4f}\")"
   ]
  },
  {
   "cell_type": "markdown",
   "id": "ce3d8854",
   "metadata": {},
   "source": [
    "# 8. Visualisasi Hasil Evaluasi"
   ]
  },
  {
   "cell_type": "markdown",
   "id": "de795108",
   "metadata": {},
   "source": [
    "8.1 Confusion Matrix"
   ]
  },
  {
   "cell_type": "code",
   "execution_count": 81,
   "id": "b1fe5a5d",
   "metadata": {},
   "outputs": [
    {
     "data": {
      "image/png": "[encoded data removed]",
      "text/plain": [
       "<Figure size 640x480 with 2 Axes>"
      ]
     },
     "metadata": {},
     "output_type": "display_data"
    }
   ],
   "source": [
    "ConfusionMatrixDisplay(confusion_matrix(y_test, y_pred),\n",
    "                       display_labels=['Tidak Beli', 'Beli']).plot(values_format='d')\n",
    "plt.title(\"Confusion Matrix - Logistic Regression\")\n",
    "plt.show()"
   ]
  },
  {
   "cell_type": "markdown",
   "id": "31169e05",
   "metadata": {},
   "source": [
    "8.2 ROC Curve"
   ]
  },
  {
   "cell_type": "code",
   "execution_count": 38,
   "id": "e5655d94",
   "metadata": {},
   "outputs": [
    {
     "data": {
      "image/png": "[encoded data removed]",
      "text/plain": [
       "<Figure size 640x480 with 1 Axes>"
      ]
     },
     "metadata": {},
     "output_type": "display_data"
    }
   ],
   "source": [
    "RocCurveDisplay.from_estimator(model, X_test, y_test)\n",
    "plt.title(\"ROC Curve - Logistic Regression\")\n",
    "plt.show()"
   ]
  },
  {
   "cell_type": "markdown",
   "id": "75752636",
   "metadata": {},
   "source": [
    "# 9. Classification Report"
   ]
  },
  {
   "cell_type": "code",
   "execution_count": 82,
   "id": "db7777f3",
   "metadata": {},
   "outputs": [
    {
     "name": "stdout",
     "output_type": "stream",
     "text": [
      "              precision    recall  f1-score   support\n",
      "\n",
      "  Tidak Beli       0.87      0.95      0.91        73\n",
      "        Beli       0.97      0.92      0.94       127\n",
      "\n",
      "    accuracy                           0.93       200\n",
      "   macro avg       0.92      0.93      0.93       200\n",
      "weighted avg       0.93      0.93      0.93       200\n",
      "\n"
     ]
    }
   ],
   "source": [
    "print(classification_report(y_test, y_pred, target_names=['Tidak Beli', 'Beli']))"
   ]
  },
  {
   "cell_type": "markdown",
   "id": "be6b6cba",
   "metadata": {},
   "source": [
    "# 10. Cross Validation"
   ]
  },
  {
   "cell_type": "code",
   "execution_count": 21,
   "id": "fbe6dcae",
   "metadata": {},
   "outputs": [
    {
     "name": "stdout",
     "output_type": "stream",
     "text": [
      "Skor tiap fold: [0.81  0.92  0.98  0.995 0.985]\n",
      "Rata-rata skor: 0.9380000000000001\n",
      "Standar deviasi: 0.06918092222571189\n"
     ]
    }
   ],
   "source": [
    "from sklearn.linear_model import LogisticRegression\n",
    "from sklearn.preprocessing import StandardScaler\n",
    "from sklearn.model_selection import cross_val_score\n",
    "import numpy as np\n",
    "\n",
    "scores = cross_val_score(model, X_scaled, y, cv=5)\n",
    "print(\"Skor tiap fold:\", scores)\n",
    "print(\"Rata-rata skor:\", np.mean(scores))\n",
    "print(\"Standar deviasi:\", np.std(scores))"
   ]
  },
  {
   "cell_type": "markdown",
   "id": "c9a9c3f5",
   "metadata": {},
   "source": [
    "# 11. Interpretasi Model logistic Regression"
   ]
  },
  {
   "cell_type": "code",
   "execution_count": null,
   "id": "eeb87e1b",
   "metadata": {},
   "outputs": [
    {
     "data": {
      "text/html": [
       "<div>\n",
       "<style scoped>\n",
       "    .dataframe tbody tr th:only-of-type {\n",
       "        vertical-align: middle;\n",
       "    }\n",
       "\n",
       "    .dataframe tbody tr th {\n",
       "        vertical-align: top;\n",
       "    }\n",
       "\n",
       "    .dataframe thead th {\n",
       "        text-align: right;\n",
       "    }\n",
       "</style>\n",
       "<table border=\"1\" class=\"dataframe\">\n",
       "  <thead>\n",
       "    <tr style=\"text-align: right;\">\n",
       "      <th></th>\n",
       "      <th>Fitur</th>\n",
       "      <th>Koefisien</th>\n",
       "      <th>odds_ratio</th>\n",
       "    </tr>\n",
       "  </thead>\n",
       "  <tbody>\n",
       "    <tr>\n",
       "      <th>1</th>\n",
       "      <td>Penghasilan</td>\n",
       "      <td>0.057318</td>\n",
       "      <td>1.058992</td>\n",
       "    </tr>\n",
       "    <tr>\n",
       "      <th>2</th>\n",
       "      <td>Memiliki_Mobil</td>\n",
       "      <td>0.040213</td>\n",
       "      <td>1.041032</td>\n",
       "    </tr>\n",
       "    <tr>\n",
       "      <th>0</th>\n",
       "      <td>Status</td>\n",
       "      <td>-0.211591</td>\n",
       "      <td>0.809296</td>\n",
       "    </tr>\n",
       "  </tbody>\n",
       "</table>\n",
       "</div>"
      ],
      "text/plain": [
       "            Fitur  Koefisien  odds_ratio\n",
       "1     Penghasilan   0.057318    1.058992\n",
       "2  Memiliki_Mobil   0.040213    1.041032\n",
       "0          Status  -0.211591    0.809296"
      ]
     },
     "execution_count": 26,
     "metadata": {},
     "output_type": "execute_result"
    }
   ],
   "source": [
    "import pandas as pd\n",
    "import numpy as np\n",
    "\n",
    "model = LogisticRegression()\n",
    "model.fit(X_train, y_train)\n",
    "\n",
    "feat_nama = model.coef_[0]          \n",
    "odds = np.exp(feat_nama)\n",
    "\n",
    "coef_df = pd.DataFrame({\n",
    "    'Fitur': X.columns,\n",
    "    'Koefisien': feat_nama,\n",
    "    'odds_ratio': odds,\n",
    "}).sort_values('odds_ratio', ascending=False)\n",
    "coef_df"
   ]
  },
  {
   "cell_type": "markdown",
   "id": "3b74604e",
   "metadata": {},
   "source": [
    "# 12. Prediksi Data Baru"
   ]
  },
  {
   "cell_type": "code",
   "execution_count": null,
   "id": "2bfee5d7",
   "metadata": {},
   "outputs": [
    {
     "data": {
      "text/html": [
       "<div>\n",
       "<style scoped>\n",
       "    .dataframe tbody tr th:only-of-type {\n",
       "        vertical-align: middle;\n",
       "    }\n",
       "\n",
       "    .dataframe tbody tr th {\n",
       "        vertical-align: top;\n",
       "    }\n",
       "\n",
       "    .dataframe thead th {\n",
       "        text-align: right;\n",
       "    }\n",
       "</style>\n",
       "<table border=\"1\" class=\"dataframe\">\n",
       "  <thead>\n",
       "    <tr style=\"text-align: right;\">\n",
       "      <th></th>\n",
       "      <th>Usia</th>\n",
       "      <th>Status</th>\n",
       "      <th>Kelamin</th>\n",
       "      <th>Memiliki_Mobil</th>\n",
       "      <th>Penghasilan</th>\n",
       "      <th>Prob_Beli_Mobil</th>\n",
       "      <th>Pred_Beli_Mobil</th>\n",
       "    </tr>\n",
       "  </thead>\n",
       "  <tbody>\n",
       "    <tr>\n",
       "      <th>0</th>\n",
       "      <td>30</td>\n",
       "      <td>1</td>\n",
       "      <td>1</td>\n",
       "      <td>0</td>\n",
       "      <td>250</td>\n",
       "      <td>0.05</td>\n",
       "      <td>0</td>\n",
       "    </tr>\n",
       "    <tr>\n",
       "      <th>1</th>\n",
       "      <td>45</td>\n",
       "      <td>2</td>\n",
       "      <td>0</td>\n",
       "      <td>1</td>\n",
       "      <td>350</td>\n",
       "      <td>0.83</td>\n",
       "      <td>1</td>\n",
       "    </tr>\n",
       "  </tbody>\n",
       "</table>\n",
       "</div>"
      ],
      "text/plain": [
       "   Usia  Status  Kelamin  Memiliki_Mobil  Penghasilan  Prob_Beli_Mobil  \\\n",
       "0    30       1        1               0          250             0.05   \n",
       "1    45       2        0               1          350             0.83   \n",
       "\n",
       "   Pred_Beli_Mobil  \n",
       "0                0  \n",
       "1                1  "
      ]
     },
     "metadata": {},
     "output_type": "display_data"
    }
   ],
   "source": [
    "import pandas as pd\n",
    "from sklearn.model_selection import train_test_split\n",
    "from sklearn.ensemble import RandomForestClassifier\n",
    "# Contoh dataset\n",
    "data = pd.DataFrame({\n",
    "    'Usia': [25, 40, 35, 50, 23, 45],\n",
    "    'Status': [1, 2, 1, 2, 1, 2],\n",
    "    'Kelamin': [1, 0, 1, 0, 1, 0],\n",
    "    'Memiliki_Mobil': [0, 1, 0, 1, 0, 1],\n",
    "    'Penghasilan': [200, 400, 300, 500, 180, 450],\n",
    "    'Beli_Mobil': [0, 1, 0, 1, 0, 1]\n",
    "})\n",
    "\n",
    "# Fitur dan target\n",
    "X = data.drop('Beli_Mobil', axis=1)\n",
    "y = data['Beli_Mobil']\n",
    "\n",
    "# Split data & latih model\n",
    "X_train, X_test, y_train, y_test = train_test_split(X, y, test_size=0.2, random_state=42)\n",
    "clf = RandomForestClassifier(random_state=42)\n",
    "clf.fit(X_train, y_train)\n",
    "\n",
    "# data baru untuk prediksi\n",
    "data_baru = pd.DataFrame({\n",
    "    'Usia': [30, 45],\n",
    "    'Status': [1, 2],\n",
    "    'Kelamin': [1, 0],\n",
    "    'Memiliki_Mobil': [0, 1],\n",
    "    'Penghasilan': [250, 350]\n",
    "})\n",
    "\n",
    "# prediksi\n",
    "pred = clf.predict(data_baru)\n",
    "prob = clf.predict_proba(data_baru)[:, 1]\n",
    "\n",
    "# menggabungkan hasil\n",
    "hasil = data_baru.copy()\n",
    "hasil['Prob_Beli_Mobil'] = prob\n",
    "hasil['Pred_Beli_Mobil'] = pred\n",
    "display(hasil)"
   ]
  }
 ],
 "metadata": {
  "kernelspec": {
   "display_name": "Python 3",
   "language": "python",
   "name": "python3"
  },
  "language_info": {
   "codemirror_mode": {
    "name": "ipython",
    "version": 3
   },
   "file_extension": ".py",
   "mimetype": "text/x-python",
   "name": "python",
   "nbconvert_exporter": "python",
   "pygments_lexer": "ipython3",
   "version": "3.13.7"
  }
 },
 "nbformat": 4,
 "nbformat_minor": 5
}
